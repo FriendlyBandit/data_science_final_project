{
 "cells": [
  {
   "attachments": {},
   "cell_type": "markdown",
   "metadata": {},
   "source": [
    "## John Peters Final Project\n",
    "\n",
    "### Research Question \n",
    "Which enriched DNA sequence motifs lead to the most significant increase in the STARR-Seq signal strength that is observed in our data?​\n",
    "\n",
    "### Hypothesis\n",
    "The way that I am treating modeling in this product is to describe my data. I don't have the traditional (to what the courses we take teach) expectation of classification or linear regression. \n",
    "\n",
    "What I will do is use a linear model to see which features help describe the response variable. I do not think I can have a hypothesis in this case, because I'm not trying to prove or disprove anything, I am just trying to \n",
    "\n",
    "### Dataset\n",
    "I have a few pieces of data that I will be using. First is the genome of the insect I am doing this research on. It is the reference genome of the Drosophila melanogaster. I think the one that I am using is from a group called FlyBase. Drosophila melanogaster is a reference insect for a lot of science, so it was made so that people could use them for research and then try to corroborate that research on their actual target organism.\n",
    "\n",
    "Next are a list of peaks from STARR-seq. This was ran to try to find enhancers within the Drosophila melanogaster. This data is from a paper first authored by Cosmas D Arnold about running STARR-seq on Drosophila melanogaster cells.\n",
    "\n",
    "These are the two datasets I am using in my research. I am getting my response variable from the second dataset, and the first one to engineer features from.\n",
    "\n",
    "NOTE: To see what work was done to engineer features see file logistic_regression_feature_engineering.ipynb\n"
   ]
  },
  {
   "cell_type": "code",
   "execution_count": 22,
   "metadata": {},
   "outputs": [],
   "source": [
    "import pandas as pd\n",
    "import numpy as np\n",
    "import seaborn as sns\n",
    "import matplotlib.pyplot as plt\n",
    "import statsmodels.api as sm\n",
    "import pandas as pd\n",
    "import matplotlib.pyplot as plt\n",
    "import seaborn as sns\n",
    "from scipy import stats\n",
    "import numpy as np\n",
    "from patsy import dmatrices\n",
    "from sklearn.model_selection import train_test_split\n",
    "from sklearn.neural_network import MLPRegressor\n",
    "from sklearn.metrics import mean_squared_error\n",
    "from sklearn.metrics import mean_absolute_percentage_error\n",
    "from sklearn.preprocessing import StandardScaler\n",
    "\n",
    "from functions import *\n",
    "\n",
    "sns.set_style(\"white\")\n",
    "plt.rcParams['figure.dpi'] = 75"
   ]
  },
  {
   "attachments": {},
   "cell_type": "markdown",
   "metadata": {},
   "source": [
    "### Data Preprocessing"
   ]
  },
  {
   "attachments": {},
   "cell_type": "markdown",
   "metadata": {},
   "source": [
    "NOTE: See file: logistic_regression_feature_engineering.ipynb for further information on how features were engineered. Cleanly compiled code for that segment is in file functions.py\n"
   ]
  },
  {
   "cell_type": "code",
   "execution_count": 23,
   "metadata": {},
   "outputs": [],
   "source": [
    "wide_matrix = get_linear_regression_matrix()"
   ]
  },
  {
   "attachments": {},
   "cell_type": "markdown",
   "metadata": {},
   "source": [
    "### Again, look at the other files if you want to see my exploratory process. There are some visuals and a lot more description in them I strongly recommend you pitstop into logistic_regression_feature_engineering.ipynb"
   ]
  },
  {
   "cell_type": "code",
   "execution_count": 24,
   "metadata": {},
   "outputs": [
    {
     "data": {
      "text/html": [
       "<div>\n",
       "<style scoped>\n",
       "    .dataframe tbody tr th:only-of-type {\n",
       "        vertical-align: middle;\n",
       "    }\n",
       "\n",
       "    .dataframe tbody tr th {\n",
       "        vertical-align: top;\n",
       "    }\n",
       "\n",
       "    .dataframe thead th {\n",
       "        text-align: right;\n",
       "    }\n",
       "</style>\n",
       "<table border=\"1\" class=\"dataframe\">\n",
       "  <thead>\n",
       "    <tr style=\"text-align: right;\">\n",
       "      <th></th>\n",
       "      <th>sequence_name</th>\n",
       "      <th>STREME-1</th>\n",
       "      <th>STREME-2</th>\n",
       "      <th>STREME-3</th>\n",
       "      <th>STREME-4</th>\n",
       "      <th>STREME-5</th>\n",
       "      <th>STREME-6</th>\n",
       "      <th>STREME-7</th>\n",
       "      <th>STREME-9</th>\n",
       "      <th>STREME-10</th>\n",
       "      <th>...</th>\n",
       "      <th>STREME-37</th>\n",
       "      <th>STREME-38</th>\n",
       "      <th>STREME-41</th>\n",
       "      <th>STREME-42</th>\n",
       "      <th>STREME-43</th>\n",
       "      <th>STREME-44</th>\n",
       "      <th>STREME-45</th>\n",
       "      <th>STREME-46</th>\n",
       "      <th>STREME-47</th>\n",
       "      <th>signal_value</th>\n",
       "    </tr>\n",
       "  </thead>\n",
       "  <tbody>\n",
       "    <tr>\n",
       "      <th>0</th>\n",
       "      <td>X:5794883-5797178</td>\n",
       "      <td>0</td>\n",
       "      <td>0</td>\n",
       "      <td>0</td>\n",
       "      <td>0</td>\n",
       "      <td>0</td>\n",
       "      <td>0</td>\n",
       "      <td>0</td>\n",
       "      <td>1</td>\n",
       "      <td>1</td>\n",
       "      <td>...</td>\n",
       "      <td>3</td>\n",
       "      <td>0</td>\n",
       "      <td>0</td>\n",
       "      <td>0</td>\n",
       "      <td>1</td>\n",
       "      <td>30</td>\n",
       "      <td>2</td>\n",
       "      <td>0</td>\n",
       "      <td>0</td>\n",
       "      <td>48</td>\n",
       "    </tr>\n",
       "    <tr>\n",
       "      <th>1</th>\n",
       "      <td>3L:17576814-17578210</td>\n",
       "      <td>0</td>\n",
       "      <td>0</td>\n",
       "      <td>0</td>\n",
       "      <td>16</td>\n",
       "      <td>1</td>\n",
       "      <td>2</td>\n",
       "      <td>0</td>\n",
       "      <td>2</td>\n",
       "      <td>1</td>\n",
       "      <td>...</td>\n",
       "      <td>1</td>\n",
       "      <td>0</td>\n",
       "      <td>0</td>\n",
       "      <td>1</td>\n",
       "      <td>1</td>\n",
       "      <td>6</td>\n",
       "      <td>1</td>\n",
       "      <td>2</td>\n",
       "      <td>0</td>\n",
       "      <td>654</td>\n",
       "    </tr>\n",
       "    <tr>\n",
       "      <th>2</th>\n",
       "      <td>2R:15744192-15745896</td>\n",
       "      <td>1</td>\n",
       "      <td>0</td>\n",
       "      <td>2</td>\n",
       "      <td>0</td>\n",
       "      <td>0</td>\n",
       "      <td>0</td>\n",
       "      <td>0</td>\n",
       "      <td>0</td>\n",
       "      <td>1</td>\n",
       "      <td>...</td>\n",
       "      <td>1</td>\n",
       "      <td>2</td>\n",
       "      <td>0</td>\n",
       "      <td>0</td>\n",
       "      <td>1</td>\n",
       "      <td>10</td>\n",
       "      <td>0</td>\n",
       "      <td>0</td>\n",
       "      <td>0</td>\n",
       "      <td>443</td>\n",
       "    </tr>\n",
       "    <tr>\n",
       "      <th>3</th>\n",
       "      <td>2R:14048903-14050073</td>\n",
       "      <td>2</td>\n",
       "      <td>0</td>\n",
       "      <td>2</td>\n",
       "      <td>0</td>\n",
       "      <td>0</td>\n",
       "      <td>0</td>\n",
       "      <td>0</td>\n",
       "      <td>0</td>\n",
       "      <td>0</td>\n",
       "      <td>...</td>\n",
       "      <td>2</td>\n",
       "      <td>0</td>\n",
       "      <td>0</td>\n",
       "      <td>0</td>\n",
       "      <td>8</td>\n",
       "      <td>10</td>\n",
       "      <td>0</td>\n",
       "      <td>0</td>\n",
       "      <td>0</td>\n",
       "      <td>1519</td>\n",
       "    </tr>\n",
       "    <tr>\n",
       "      <th>4</th>\n",
       "      <td>2R:24969269-24969879</td>\n",
       "      <td>0</td>\n",
       "      <td>2</td>\n",
       "      <td>0</td>\n",
       "      <td>0</td>\n",
       "      <td>0</td>\n",
       "      <td>1</td>\n",
       "      <td>0</td>\n",
       "      <td>0</td>\n",
       "      <td>0</td>\n",
       "      <td>...</td>\n",
       "      <td>0</td>\n",
       "      <td>0</td>\n",
       "      <td>0</td>\n",
       "      <td>0</td>\n",
       "      <td>1</td>\n",
       "      <td>4</td>\n",
       "      <td>1</td>\n",
       "      <td>0</td>\n",
       "      <td>0</td>\n",
       "      <td>88</td>\n",
       "    </tr>\n",
       "  </tbody>\n",
       "</table>\n",
       "<p>5 rows × 38 columns</p>\n",
       "</div>"
      ],
      "text/plain": [
       "          sequence_name  STREME-1  STREME-2  STREME-3  STREME-4  STREME-5  \\\n",
       "0     X:5794883-5797178         0         0         0         0         0   \n",
       "1  3L:17576814-17578210         0         0         0        16         1   \n",
       "2  2R:15744192-15745896         1         0         2         0         0   \n",
       "3  2R:14048903-14050073         2         0         2         0         0   \n",
       "4  2R:24969269-24969879         0         2         0         0         0   \n",
       "\n",
       "   STREME-6  STREME-7  STREME-9  STREME-10  ...  STREME-37  STREME-38  \\\n",
       "0         0         0         1          1  ...          3          0   \n",
       "1         2         0         2          1  ...          1          0   \n",
       "2         0         0         0          1  ...          1          2   \n",
       "3         0         0         0          0  ...          2          0   \n",
       "4         1         0         0          0  ...          0          0   \n",
       "\n",
       "   STREME-41  STREME-42  STREME-43  STREME-44  STREME-45  STREME-46  \\\n",
       "0          0          0          1         30          2          0   \n",
       "1          0          1          1          6          1          2   \n",
       "2          0          0          1         10          0          0   \n",
       "3          0          0          8         10          0          0   \n",
       "4          0          0          1          4          1          0   \n",
       "\n",
       "   STREME-47  signal_value  \n",
       "0          0            48  \n",
       "1          0           654  \n",
       "2          0           443  \n",
       "3          0          1519  \n",
       "4          0            88  \n",
       "\n",
       "[5 rows x 38 columns]"
      ]
     },
     "execution_count": 24,
     "metadata": {},
     "output_type": "execute_result"
    }
   ],
   "source": [
    "wide_matrix.head()"
   ]
  },
  {
   "cell_type": "code",
   "execution_count": 25,
   "metadata": {},
   "outputs": [
    {
     "data": {
      "text/plain": [
       "Text(0.5, 1.0, 'Signal value from narrowpeak')"
      ]
     },
     "execution_count": 25,
     "metadata": {},
     "output_type": "execute_result"
    },
    {
     "data": {
      "image/png": "[encoded data removed]",
      "text/plain": [
       "<Figure size 480x360 with 1 Axes>"
      ]
     },
     "metadata": {},
     "output_type": "display_data"
    }
   ],
   "source": [
    "sns.histplot(data=wide_matrix, x='signal_value')\n",
    "plt.title('Signal value from narrowpeak')"
   ]
  },
  {
   "attachments": {},
   "cell_type": "markdown",
   "metadata": {},
   "source": [
    "This is fairly skewed and spans quite a large range. I will take the log transform"
   ]
  },
  {
   "cell_type": "code",
   "execution_count": 26,
   "metadata": {},
   "outputs": [],
   "source": [
    "wide_matrix.signal_value = np.log(wide_matrix.signal_value)"
   ]
  },
  {
   "cell_type": "code",
   "execution_count": 27,
   "metadata": {},
   "outputs": [
    {
     "data": {
      "text/plain": [
       "Text(0.5, 1.0, 'Log transformed signal value')"
      ]
     },
     "execution_count": 27,
     "metadata": {},
     "output_type": "execute_result"
    },
    {
     "data": {
      "image/png": "[encoded data removed]",
      "text/plain": [
       "<Figure size 480x360 with 1 Axes>"
      ]
     },
     "metadata": {},
     "output_type": "display_data"
    }
   ],
   "source": [
    "sns.histplot(data=wide_matrix, x='signal_value')\n",
    "plt.title('Log transformed signal value')"
   ]
  },
  {
   "attachments": {},
   "cell_type": "markdown",
   "metadata": {},
   "source": [
    "That looks much better. We will use this.\n",
    "\n",
    "Now to create our model and see how well it performs (I will qualify it later)"
   ]
  },
  {
   "cell_type": "code",
   "execution_count": 28,
   "metadata": {},
   "outputs": [],
   "source": [
    "features = wide_matrix.iloc[:, 1:-1]\n",
    "response = wide_matrix.iloc[:, -1:]"
   ]
  },
  {
   "cell_type": "code",
   "execution_count": 29,
   "metadata": {},
   "outputs": [
    {
     "data": {
      "text/html": [
       "<div>\n",
       "<style scoped>\n",
       "    .dataframe tbody tr th:only-of-type {\n",
       "        vertical-align: middle;\n",
       "    }\n",
       "\n",
       "    .dataframe tbody tr th {\n",
       "        vertical-align: top;\n",
       "    }\n",
       "\n",
       "    .dataframe thead th {\n",
       "        text-align: right;\n",
       "    }\n",
       "</style>\n",
       "<table border=\"1\" class=\"dataframe\">\n",
       "  <thead>\n",
       "    <tr style=\"text-align: right;\">\n",
       "      <th></th>\n",
       "      <th>STREME-1</th>\n",
       "      <th>STREME-2</th>\n",
       "      <th>STREME-3</th>\n",
       "      <th>STREME-4</th>\n",
       "      <th>STREME-5</th>\n",
       "      <th>STREME-6</th>\n",
       "      <th>STREME-7</th>\n",
       "      <th>STREME-9</th>\n",
       "      <th>STREME-10</th>\n",
       "      <th>STREME-11</th>\n",
       "      <th>...</th>\n",
       "      <th>STREME-36</th>\n",
       "      <th>STREME-37</th>\n",
       "      <th>STREME-38</th>\n",
       "      <th>STREME-41</th>\n",
       "      <th>STREME-42</th>\n",
       "      <th>STREME-43</th>\n",
       "      <th>STREME-44</th>\n",
       "      <th>STREME-45</th>\n",
       "      <th>STREME-46</th>\n",
       "      <th>STREME-47</th>\n",
       "    </tr>\n",
       "  </thead>\n",
       "  <tbody>\n",
       "    <tr>\n",
       "      <th>0</th>\n",
       "      <td>0</td>\n",
       "      <td>0</td>\n",
       "      <td>0</td>\n",
       "      <td>0</td>\n",
       "      <td>0</td>\n",
       "      <td>0</td>\n",
       "      <td>0</td>\n",
       "      <td>1</td>\n",
       "      <td>1</td>\n",
       "      <td>0</td>\n",
       "      <td>...</td>\n",
       "      <td>0</td>\n",
       "      <td>3</td>\n",
       "      <td>0</td>\n",
       "      <td>0</td>\n",
       "      <td>0</td>\n",
       "      <td>1</td>\n",
       "      <td>30</td>\n",
       "      <td>2</td>\n",
       "      <td>0</td>\n",
       "      <td>0</td>\n",
       "    </tr>\n",
       "    <tr>\n",
       "      <th>1</th>\n",
       "      <td>0</td>\n",
       "      <td>0</td>\n",
       "      <td>0</td>\n",
       "      <td>16</td>\n",
       "      <td>1</td>\n",
       "      <td>2</td>\n",
       "      <td>0</td>\n",
       "      <td>2</td>\n",
       "      <td>1</td>\n",
       "      <td>0</td>\n",
       "      <td>...</td>\n",
       "      <td>0</td>\n",
       "      <td>1</td>\n",
       "      <td>0</td>\n",
       "      <td>0</td>\n",
       "      <td>1</td>\n",
       "      <td>1</td>\n",
       "      <td>6</td>\n",
       "      <td>1</td>\n",
       "      <td>2</td>\n",
       "      <td>0</td>\n",
       "    </tr>\n",
       "    <tr>\n",
       "      <th>2</th>\n",
       "      <td>1</td>\n",
       "      <td>0</td>\n",
       "      <td>2</td>\n",
       "      <td>0</td>\n",
       "      <td>0</td>\n",
       "      <td>0</td>\n",
       "      <td>0</td>\n",
       "      <td>0</td>\n",
       "      <td>1</td>\n",
       "      <td>0</td>\n",
       "      <td>...</td>\n",
       "      <td>0</td>\n",
       "      <td>1</td>\n",
       "      <td>2</td>\n",
       "      <td>0</td>\n",
       "      <td>0</td>\n",
       "      <td>1</td>\n",
       "      <td>10</td>\n",
       "      <td>0</td>\n",
       "      <td>0</td>\n",
       "      <td>0</td>\n",
       "    </tr>\n",
       "    <tr>\n",
       "      <th>3</th>\n",
       "      <td>2</td>\n",
       "      <td>0</td>\n",
       "      <td>2</td>\n",
       "      <td>0</td>\n",
       "      <td>0</td>\n",
       "      <td>0</td>\n",
       "      <td>0</td>\n",
       "      <td>0</td>\n",
       "      <td>0</td>\n",
       "      <td>0</td>\n",
       "      <td>...</td>\n",
       "      <td>7</td>\n",
       "      <td>2</td>\n",
       "      <td>0</td>\n",
       "      <td>0</td>\n",
       "      <td>0</td>\n",
       "      <td>8</td>\n",
       "      <td>10</td>\n",
       "      <td>0</td>\n",
       "      <td>0</td>\n",
       "      <td>0</td>\n",
       "    </tr>\n",
       "    <tr>\n",
       "      <th>4</th>\n",
       "      <td>0</td>\n",
       "      <td>2</td>\n",
       "      <td>0</td>\n",
       "      <td>0</td>\n",
       "      <td>0</td>\n",
       "      <td>1</td>\n",
       "      <td>0</td>\n",
       "      <td>0</td>\n",
       "      <td>0</td>\n",
       "      <td>0</td>\n",
       "      <td>...</td>\n",
       "      <td>0</td>\n",
       "      <td>0</td>\n",
       "      <td>0</td>\n",
       "      <td>0</td>\n",
       "      <td>0</td>\n",
       "      <td>1</td>\n",
       "      <td>4</td>\n",
       "      <td>1</td>\n",
       "      <td>0</td>\n",
       "      <td>0</td>\n",
       "    </tr>\n",
       "  </tbody>\n",
       "</table>\n",
       "<p>5 rows × 36 columns</p>\n",
       "</div>"
      ],
      "text/plain": [
       "   STREME-1  STREME-2  STREME-3  STREME-4  STREME-5  STREME-6  STREME-7  \\\n",
       "0         0         0         0         0         0         0         0   \n",
       "1         0         0         0        16         1         2         0   \n",
       "2         1         0         2         0         0         0         0   \n",
       "3         2         0         2         0         0         0         0   \n",
       "4         0         2         0         0         0         1         0   \n",
       "\n",
       "   STREME-9  STREME-10  STREME-11  ...  STREME-36  STREME-37  STREME-38  \\\n",
       "0         1          1          0  ...          0          3          0   \n",
       "1         2          1          0  ...          0          1          0   \n",
       "2         0          1          0  ...          0          1          2   \n",
       "3         0          0          0  ...          7          2          0   \n",
       "4         0          0          0  ...          0          0          0   \n",
       "\n",
       "   STREME-41  STREME-42  STREME-43  STREME-44  STREME-45  STREME-46  STREME-47  \n",
       "0          0          0          1         30          2          0          0  \n",
       "1          0          1          1          6          1          2          0  \n",
       "2          0          0          1         10          0          0          0  \n",
       "3          0          0          8         10          0          0          0  \n",
       "4          0          0          1          4          1          0          0  \n",
       "\n",
       "[5 rows x 36 columns]"
      ]
     },
     "execution_count": 29,
     "metadata": {},
     "output_type": "execute_result"
    }
   ],
   "source": [
    "features.head()"
   ]
  },
  {
   "cell_type": "code",
   "execution_count": 30,
   "metadata": {},
   "outputs": [
    {
     "data": {
      "text/html": [
       "<div>\n",
       "<style scoped>\n",
       "    .dataframe tbody tr th:only-of-type {\n",
       "        vertical-align: middle;\n",
       "    }\n",
       "\n",
       "    .dataframe tbody tr th {\n",
       "        vertical-align: top;\n",
       "    }\n",
       "\n",
       "    .dataframe thead th {\n",
       "        text-align: right;\n",
       "    }\n",
       "</style>\n",
       "<table border=\"1\" class=\"dataframe\">\n",
       "  <thead>\n",
       "    <tr style=\"text-align: right;\">\n",
       "      <th></th>\n",
       "      <th>signal_value</th>\n",
       "    </tr>\n",
       "  </thead>\n",
       "  <tbody>\n",
       "    <tr>\n",
       "      <th>0</th>\n",
       "      <td>3.871201</td>\n",
       "    </tr>\n",
       "    <tr>\n",
       "      <th>1</th>\n",
       "      <td>6.483107</td>\n",
       "    </tr>\n",
       "    <tr>\n",
       "      <th>2</th>\n",
       "      <td>6.093570</td>\n",
       "    </tr>\n",
       "    <tr>\n",
       "      <th>3</th>\n",
       "      <td>7.325808</td>\n",
       "    </tr>\n",
       "    <tr>\n",
       "      <th>4</th>\n",
       "      <td>4.477337</td>\n",
       "    </tr>\n",
       "  </tbody>\n",
       "</table>\n",
       "</div>"
      ],
      "text/plain": [
       "   signal_value\n",
       "0      3.871201\n",
       "1      6.483107\n",
       "2      6.093570\n",
       "3      7.325808\n",
       "4      4.477337"
      ]
     },
     "execution_count": 30,
     "metadata": {},
     "output_type": "execute_result"
    }
   ],
   "source": [
    "response.head()"
   ]
  },
  {
   "attachments": {},
   "cell_type": "markdown",
   "metadata": {},
   "source": [
    "### Data Analysis and Visualization"
   ]
  },
  {
   "cell_type": "code",
   "execution_count": 31,
   "metadata": {},
   "outputs": [
    {
     "name": "stdout",
     "output_type": "stream",
     "text": [
      "(2902, 36)\n"
     ]
    },
    {
     "data": {
      "text/html": [
       "<div>\n",
       "<style scoped>\n",
       "    .dataframe tbody tr th:only-of-type {\n",
       "        vertical-align: middle;\n",
       "    }\n",
       "\n",
       "    .dataframe tbody tr th {\n",
       "        vertical-align: top;\n",
       "    }\n",
       "\n",
       "    .dataframe thead th {\n",
       "        text-align: right;\n",
       "    }\n",
       "</style>\n",
       "<table border=\"1\" class=\"dataframe\">\n",
       "  <thead>\n",
       "    <tr style=\"text-align: right;\">\n",
       "      <th></th>\n",
       "      <th>STREME1</th>\n",
       "      <th>STREME2</th>\n",
       "      <th>STREME3</th>\n",
       "      <th>STREME4</th>\n",
       "      <th>STREME5</th>\n",
       "      <th>STREME6</th>\n",
       "      <th>STREME7</th>\n",
       "      <th>STREME9</th>\n",
       "      <th>STREME10</th>\n",
       "      <th>STREME11</th>\n",
       "      <th>...</th>\n",
       "      <th>STREME37</th>\n",
       "      <th>STREME38</th>\n",
       "      <th>STREME41</th>\n",
       "      <th>STREME42</th>\n",
       "      <th>STREME43</th>\n",
       "      <th>STREME44</th>\n",
       "      <th>STREME45</th>\n",
       "      <th>STREME46</th>\n",
       "      <th>STREME47</th>\n",
       "      <th>signal_strength</th>\n",
       "    </tr>\n",
       "  </thead>\n",
       "  <tbody>\n",
       "    <tr>\n",
       "      <th>0</th>\n",
       "      <td>0</td>\n",
       "      <td>0</td>\n",
       "      <td>0</td>\n",
       "      <td>0</td>\n",
       "      <td>0</td>\n",
       "      <td>0</td>\n",
       "      <td>0</td>\n",
       "      <td>1</td>\n",
       "      <td>1</td>\n",
       "      <td>0</td>\n",
       "      <td>...</td>\n",
       "      <td>3</td>\n",
       "      <td>0</td>\n",
       "      <td>0</td>\n",
       "      <td>0</td>\n",
       "      <td>1</td>\n",
       "      <td>30</td>\n",
       "      <td>2</td>\n",
       "      <td>0</td>\n",
       "      <td>0</td>\n",
       "      <td>3.871201</td>\n",
       "    </tr>\n",
       "    <tr>\n",
       "      <th>1</th>\n",
       "      <td>0</td>\n",
       "      <td>0</td>\n",
       "      <td>0</td>\n",
       "      <td>16</td>\n",
       "      <td>1</td>\n",
       "      <td>2</td>\n",
       "      <td>0</td>\n",
       "      <td>2</td>\n",
       "      <td>1</td>\n",
       "      <td>0</td>\n",
       "      <td>...</td>\n",
       "      <td>1</td>\n",
       "      <td>0</td>\n",
       "      <td>0</td>\n",
       "      <td>1</td>\n",
       "      <td>1</td>\n",
       "      <td>6</td>\n",
       "      <td>1</td>\n",
       "      <td>2</td>\n",
       "      <td>0</td>\n",
       "      <td>6.483107</td>\n",
       "    </tr>\n",
       "    <tr>\n",
       "      <th>2</th>\n",
       "      <td>1</td>\n",
       "      <td>0</td>\n",
       "      <td>2</td>\n",
       "      <td>0</td>\n",
       "      <td>0</td>\n",
       "      <td>0</td>\n",
       "      <td>0</td>\n",
       "      <td>0</td>\n",
       "      <td>1</td>\n",
       "      <td>0</td>\n",
       "      <td>...</td>\n",
       "      <td>1</td>\n",
       "      <td>2</td>\n",
       "      <td>0</td>\n",
       "      <td>0</td>\n",
       "      <td>1</td>\n",
       "      <td>10</td>\n",
       "      <td>0</td>\n",
       "      <td>0</td>\n",
       "      <td>0</td>\n",
       "      <td>6.093570</td>\n",
       "    </tr>\n",
       "    <tr>\n",
       "      <th>3</th>\n",
       "      <td>2</td>\n",
       "      <td>0</td>\n",
       "      <td>2</td>\n",
       "      <td>0</td>\n",
       "      <td>0</td>\n",
       "      <td>0</td>\n",
       "      <td>0</td>\n",
       "      <td>0</td>\n",
       "      <td>0</td>\n",
       "      <td>0</td>\n",
       "      <td>...</td>\n",
       "      <td>2</td>\n",
       "      <td>0</td>\n",
       "      <td>0</td>\n",
       "      <td>0</td>\n",
       "      <td>8</td>\n",
       "      <td>10</td>\n",
       "      <td>0</td>\n",
       "      <td>0</td>\n",
       "      <td>0</td>\n",
       "      <td>7.325808</td>\n",
       "    </tr>\n",
       "    <tr>\n",
       "      <th>4</th>\n",
       "      <td>0</td>\n",
       "      <td>2</td>\n",
       "      <td>0</td>\n",
       "      <td>0</td>\n",
       "      <td>0</td>\n",
       "      <td>1</td>\n",
       "      <td>0</td>\n",
       "      <td>0</td>\n",
       "      <td>0</td>\n",
       "      <td>0</td>\n",
       "      <td>...</td>\n",
       "      <td>0</td>\n",
       "      <td>0</td>\n",
       "      <td>0</td>\n",
       "      <td>0</td>\n",
       "      <td>1</td>\n",
       "      <td>4</td>\n",
       "      <td>1</td>\n",
       "      <td>0</td>\n",
       "      <td>0</td>\n",
       "      <td>4.477337</td>\n",
       "    </tr>\n",
       "  </tbody>\n",
       "</table>\n",
       "<p>5 rows × 37 columns</p>\n",
       "</div>"
      ],
      "text/plain": [
       "   STREME1  STREME2  STREME3  STREME4  STREME5  STREME6  STREME7  STREME9  \\\n",
       "0        0        0        0        0        0        0        0        1   \n",
       "1        0        0        0       16        1        2        0        2   \n",
       "2        1        0        2        0        0        0        0        0   \n",
       "3        2        0        2        0        0        0        0        0   \n",
       "4        0        2        0        0        0        1        0        0   \n",
       "\n",
       "   STREME10  STREME11  ...  STREME37  STREME38  STREME41  STREME42  STREME43  \\\n",
       "0         1         0  ...         3         0         0         0         1   \n",
       "1         1         0  ...         1         0         0         1         1   \n",
       "2         1         0  ...         1         2         0         0         1   \n",
       "3         0         0  ...         2         0         0         0         8   \n",
       "4         0         0  ...         0         0         0         0         1   \n",
       "\n",
       "   STREME44  STREME45  STREME46  STREME47  signal_strength  \n",
       "0        30         2         0         0         3.871201  \n",
       "1         6         1         2         0         6.483107  \n",
       "2        10         0         0         0         6.093570  \n",
       "3        10         0         0         0         7.325808  \n",
       "4         4         1         0         0         4.477337  \n",
       "\n",
       "[5 rows x 37 columns]"
      ]
     },
     "execution_count": 31,
     "metadata": {},
     "output_type": "execute_result"
    }
   ],
   "source": [
    "df_to_statsmodels = pd.DataFrame()\n",
    "\n",
    "\n",
    "# Renaming the training data features without the dash so statsmodels can stop complaining \n",
    "rename_X = {}\n",
    "for column in features.columns:\n",
    "    rename_X[column] = \"\".join(column.split('-'))\n",
    "\n",
    "X_train = features.rename(columns=rename_X)\n",
    "\n",
    "df_to_statsmodels = pd.concat([df_to_statsmodels, X_train], axis=1)\n",
    "print(df_to_statsmodels.shape)\n",
    "df_to_statsmodels['signal_strength'] = response\n",
    "df_to_statsmodels.head()"
   ]
  },
  {
   "attachments": {},
   "cell_type": "markdown",
   "metadata": {},
   "source": [
    "Note: The above table was visualized in the logistic_regression_feature_engineering.ipynb notebook"
   ]
  },
  {
   "attachments": {},
   "cell_type": "markdown",
   "metadata": {},
   "source": [
    "### Data Modeling and Prediction"
   ]
  },
  {
   "cell_type": "code",
   "execution_count": 32,
   "metadata": {},
   "outputs": [
    {
     "name": "stdout",
     "output_type": "stream",
     "text": [
      "<class 'pandas.core.frame.DataFrame'>\n",
      "Int64Index: 2902 entries, 0 to 2901\n",
      "Data columns (total 37 columns):\n",
      " #   Column     Non-Null Count  Dtype  \n",
      "---  ------     --------------  -----  \n",
      " 0   Intercept  2902 non-null   float64\n",
      " 1   STREME1    2902 non-null   float64\n",
      " 2   STREME2    2902 non-null   float64\n",
      " 3   STREME3    2902 non-null   float64\n",
      " 4   STREME4    2902 non-null   float64\n",
      " 5   STREME5    2902 non-null   float64\n",
      " 6   STREME6    2902 non-null   float64\n",
      " 7   STREME7    2902 non-null   float64\n",
      " 8   STREME9    2902 non-null   float64\n",
      " 9   STREME10   2902 non-null   float64\n",
      " 10  STREME11   2902 non-null   float64\n",
      " 11  STREME12   2902 non-null   float64\n",
      " 12  STREME13   2902 non-null   float64\n",
      " 13  STREME14   2902 non-null   float64\n",
      " 14  STREME15   2902 non-null   float64\n",
      " 15  STREME16   2902 non-null   float64\n",
      " 16  STREME17   2902 non-null   float64\n",
      " 17  STREME18   2902 non-null   float64\n",
      " 18  STREME19   2902 non-null   float64\n",
      " 19  STREME20   2902 non-null   float64\n",
      " 20  STREME21   2902 non-null   float64\n",
      " 21  STREME22   2902 non-null   float64\n",
      " 22  STREME23   2902 non-null   float64\n",
      " 23  STREME25   2902 non-null   float64\n",
      " 24  STREME29   2902 non-null   float64\n",
      " 25  STREME31   2902 non-null   float64\n",
      " 26  STREME35   2902 non-null   float64\n",
      " 27  STREME36   2902 non-null   float64\n",
      " 28  STREME37   2902 non-null   float64\n",
      " 29  STREME38   2902 non-null   float64\n",
      " 30  STREME41   2902 non-null   float64\n",
      " 31  STREME42   2902 non-null   float64\n",
      " 32  STREME43   2902 non-null   float64\n",
      " 33  STREME44   2902 non-null   float64\n",
      " 34  STREME45   2902 non-null   float64\n",
      " 35  STREME46   2902 non-null   float64\n",
      " 36  STREME47   2902 non-null   float64\n",
      "dtypes: float64(37)\n",
      "memory usage: 861.5 KB\n"
     ]
    }
   ],
   "source": [
    "model_string = \"signal_strength ~ \"\n",
    "for col in X_train.columns:\n",
    "    if col != \"signal_strength\":\n",
    "        model_string += f\"{col} + \"\n",
    "\n",
    "model_string = model_string[:-2]\n",
    "# model_string = f'{model_string} - 1'\n",
    "\n",
    "y, X = dmatrices(model_string, data=df_to_statsmodels, return_type=\"dataframe\")\n",
    "X.info()"
   ]
  },
  {
   "attachments": {},
   "cell_type": "markdown",
   "metadata": {},
   "source": [
    "Again, it's all not null because of how this dataset was gathered. The following little bit of code is just me creating my model using statsmodels.\n",
    "\n",
    "No train/test split because we are trying to understand our data with this model. It is simply an exploratory tool. It is not ever going to be used to predict on new data!"
   ]
  },
  {
   "cell_type": "code",
   "execution_count": 33,
   "metadata": {},
   "outputs": [
    {
     "data": {
      "text/html": [
       "<table class=\"simpletable\">\n",
       "<caption>OLS Regression Results</caption>\n",
       "<tr>\n",
       "  <th>Dep. Variable:</th>     <td>signal_strength</td> <th>  R-squared:         </th> <td>   0.173</td>\n",
       "</tr>\n",
       "<tr>\n",
       "  <th>Model:</th>                   <td>OLS</td>       <th>  Adj. R-squared:    </th> <td>   0.162</td>\n",
       "</tr>\n",
       "<tr>\n",
       "  <th>Method:</th>             <td>Least Squares</td>  <th>  F-statistic:       </th> <td>   16.60</td>\n",
       "</tr>\n",
       "<tr>\n",
       "  <th>Date:</th>             <td>Mon, 20 Feb 2023</td> <th>  Prob (F-statistic):</th> <td>2.29e-92</td>\n",
       "</tr>\n",
       "<tr>\n",
       "  <th>Time:</th>                 <td>20:47:22</td>     <th>  Log-Likelihood:    </th> <td> -3740.2</td>\n",
       "</tr>\n",
       "<tr>\n",
       "  <th>No. Observations:</th>      <td>  2902</td>      <th>  AIC:               </th> <td>   7554.</td>\n",
       "</tr>\n",
       "<tr>\n",
       "  <th>Df Residuals:</th>          <td>  2865</td>      <th>  BIC:               </th> <td>   7775.</td>\n",
       "</tr>\n",
       "<tr>\n",
       "  <th>Df Model:</th>              <td>    36</td>      <th>                     </th>     <td> </td>   \n",
       "</tr>\n",
       "<tr>\n",
       "  <th>Covariance Type:</th>      <td>nonrobust</td>    <th>                     </th>     <td> </td>   \n",
       "</tr>\n",
       "</table>\n",
       "<table class=\"simpletable\">\n",
       "<tr>\n",
       "      <td></td>         <th>coef</th>     <th>std err</th>      <th>t</th>      <th>P>|t|</th>  <th>[0.025</th>    <th>0.975]</th>  \n",
       "</tr>\n",
       "<tr>\n",
       "  <th>Intercept</th> <td>    4.6089</td> <td>    0.031</td> <td>  151.020</td> <td> 0.000</td> <td>    4.549</td> <td>    4.669</td>\n",
       "</tr>\n",
       "<tr>\n",
       "  <th>STREME1</th>   <td>    0.1166</td> <td>    0.025</td> <td>    4.689</td> <td> 0.000</td> <td>    0.068</td> <td>    0.165</td>\n",
       "</tr>\n",
       "<tr>\n",
       "  <th>STREME2</th>   <td>    0.0123</td> <td>    0.024</td> <td>    0.503</td> <td> 0.615</td> <td>   -0.036</td> <td>    0.060</td>\n",
       "</tr>\n",
       "<tr>\n",
       "  <th>STREME3</th>   <td>    0.1062</td> <td>    0.017</td> <td>    6.106</td> <td> 0.000</td> <td>    0.072</td> <td>    0.140</td>\n",
       "</tr>\n",
       "<tr>\n",
       "  <th>STREME4</th>   <td>    0.0112</td> <td>    0.008</td> <td>    1.481</td> <td> 0.139</td> <td>   -0.004</td> <td>    0.026</td>\n",
       "</tr>\n",
       "<tr>\n",
       "  <th>STREME5</th>   <td>    0.0369</td> <td>    0.019</td> <td>    1.917</td> <td> 0.055</td> <td>   -0.001</td> <td>    0.075</td>\n",
       "</tr>\n",
       "<tr>\n",
       "  <th>STREME6</th>   <td>   -0.0294</td> <td>    0.020</td> <td>   -1.450</td> <td> 0.147</td> <td>   -0.069</td> <td>    0.010</td>\n",
       "</tr>\n",
       "<tr>\n",
       "  <th>STREME7</th>   <td>    0.0469</td> <td>    0.032</td> <td>    1.461</td> <td> 0.144</td> <td>   -0.016</td> <td>    0.110</td>\n",
       "</tr>\n",
       "<tr>\n",
       "  <th>STREME9</th>   <td>    0.0223</td> <td>    0.014</td> <td>    1.561</td> <td> 0.119</td> <td>   -0.006</td> <td>    0.050</td>\n",
       "</tr>\n",
       "<tr>\n",
       "  <th>STREME10</th>  <td>    0.0965</td> <td>    0.030</td> <td>    3.257</td> <td> 0.001</td> <td>    0.038</td> <td>    0.155</td>\n",
       "</tr>\n",
       "<tr>\n",
       "  <th>STREME11</th>  <td>    0.1385</td> <td>    0.044</td> <td>    3.182</td> <td> 0.001</td> <td>    0.053</td> <td>    0.224</td>\n",
       "</tr>\n",
       "<tr>\n",
       "  <th>STREME12</th>  <td>    0.0028</td> <td>    0.006</td> <td>    0.436</td> <td> 0.663</td> <td>   -0.010</td> <td>    0.015</td>\n",
       "</tr>\n",
       "<tr>\n",
       "  <th>STREME13</th>  <td>    0.0027</td> <td>    0.031</td> <td>    0.088</td> <td> 0.930</td> <td>   -0.058</td> <td>    0.063</td>\n",
       "</tr>\n",
       "<tr>\n",
       "  <th>STREME14</th>  <td>    0.1252</td> <td>    0.030</td> <td>    4.186</td> <td> 0.000</td> <td>    0.067</td> <td>    0.184</td>\n",
       "</tr>\n",
       "<tr>\n",
       "  <th>STREME15</th>  <td>   -0.0101</td> <td>    0.013</td> <td>   -0.773</td> <td> 0.439</td> <td>   -0.036</td> <td>    0.016</td>\n",
       "</tr>\n",
       "<tr>\n",
       "  <th>STREME16</th>  <td>    0.0295</td> <td>    0.040</td> <td>    0.739</td> <td> 0.460</td> <td>   -0.049</td> <td>    0.108</td>\n",
       "</tr>\n",
       "<tr>\n",
       "  <th>STREME17</th>  <td>   -0.0193</td> <td>    0.011</td> <td>   -1.697</td> <td> 0.090</td> <td>   -0.042</td> <td>    0.003</td>\n",
       "</tr>\n",
       "<tr>\n",
       "  <th>STREME18</th>  <td>    0.0462</td> <td>    0.032</td> <td>    1.451</td> <td> 0.147</td> <td>   -0.016</td> <td>    0.109</td>\n",
       "</tr>\n",
       "<tr>\n",
       "  <th>STREME19</th>  <td>    0.0379</td> <td>    0.036</td> <td>    1.044</td> <td> 0.296</td> <td>   -0.033</td> <td>    0.109</td>\n",
       "</tr>\n",
       "<tr>\n",
       "  <th>STREME20</th>  <td>    0.1171</td> <td>    0.031</td> <td>    3.821</td> <td> 0.000</td> <td>    0.057</td> <td>    0.177</td>\n",
       "</tr>\n",
       "<tr>\n",
       "  <th>STREME21</th>  <td>    0.0975</td> <td>    0.031</td> <td>    3.182</td> <td> 0.001</td> <td>    0.037</td> <td>    0.157</td>\n",
       "</tr>\n",
       "<tr>\n",
       "  <th>STREME22</th>  <td>    0.0540</td> <td>    0.031</td> <td>    1.754</td> <td> 0.080</td> <td>   -0.006</td> <td>    0.114</td>\n",
       "</tr>\n",
       "<tr>\n",
       "  <th>STREME23</th>  <td>   -0.0006</td> <td>    0.049</td> <td>   -0.012</td> <td> 0.990</td> <td>   -0.096</td> <td>    0.095</td>\n",
       "</tr>\n",
       "<tr>\n",
       "  <th>STREME25</th>  <td>    0.0986</td> <td>    0.039</td> <td>    2.528</td> <td> 0.012</td> <td>    0.022</td> <td>    0.175</td>\n",
       "</tr>\n",
       "<tr>\n",
       "  <th>STREME29</th>  <td>    0.0768</td> <td>    0.045</td> <td>    1.689</td> <td> 0.091</td> <td>   -0.012</td> <td>    0.166</td>\n",
       "</tr>\n",
       "<tr>\n",
       "  <th>STREME31</th>  <td>    0.0528</td> <td>    0.040</td> <td>    1.324</td> <td> 0.186</td> <td>   -0.025</td> <td>    0.131</td>\n",
       "</tr>\n",
       "<tr>\n",
       "  <th>STREME35</th>  <td>    0.0730</td> <td>    0.035</td> <td>    2.111</td> <td> 0.035</td> <td>    0.005</td> <td>    0.141</td>\n",
       "</tr>\n",
       "<tr>\n",
       "  <th>STREME36</th>  <td>    0.0262</td> <td>    0.022</td> <td>    1.197</td> <td> 0.231</td> <td>   -0.017</td> <td>    0.069</td>\n",
       "</tr>\n",
       "<tr>\n",
       "  <th>STREME37</th>  <td>    0.0499</td> <td>    0.020</td> <td>    2.510</td> <td> 0.012</td> <td>    0.011</td> <td>    0.089</td>\n",
       "</tr>\n",
       "<tr>\n",
       "  <th>STREME38</th>  <td>    0.0519</td> <td>    0.014</td> <td>    3.677</td> <td> 0.000</td> <td>    0.024</td> <td>    0.080</td>\n",
       "</tr>\n",
       "<tr>\n",
       "  <th>STREME41</th>  <td>    0.0759</td> <td>    0.041</td> <td>    1.844</td> <td> 0.065</td> <td>   -0.005</td> <td>    0.157</td>\n",
       "</tr>\n",
       "<tr>\n",
       "  <th>STREME42</th>  <td>    0.0718</td> <td>    0.034</td> <td>    2.093</td> <td> 0.036</td> <td>    0.005</td> <td>    0.139</td>\n",
       "</tr>\n",
       "<tr>\n",
       "  <th>STREME43</th>  <td>    0.0322</td> <td>    0.016</td> <td>    2.021</td> <td> 0.043</td> <td>    0.001</td> <td>    0.063</td>\n",
       "</tr>\n",
       "<tr>\n",
       "  <th>STREME44</th>  <td>    0.0062</td> <td>    0.010</td> <td>    0.646</td> <td> 0.518</td> <td>   -0.013</td> <td>    0.025</td>\n",
       "</tr>\n",
       "<tr>\n",
       "  <th>STREME45</th>  <td>    0.0574</td> <td>    0.027</td> <td>    2.117</td> <td> 0.034</td> <td>    0.004</td> <td>    0.111</td>\n",
       "</tr>\n",
       "<tr>\n",
       "  <th>STREME46</th>  <td>    0.0487</td> <td>    0.031</td> <td>    1.585</td> <td> 0.113</td> <td>   -0.012</td> <td>    0.109</td>\n",
       "</tr>\n",
       "<tr>\n",
       "  <th>STREME47</th>  <td>    0.0896</td> <td>    0.044</td> <td>    2.014</td> <td> 0.044</td> <td>    0.002</td> <td>    0.177</td>\n",
       "</tr>\n",
       "</table>\n",
       "<table class=\"simpletable\">\n",
       "<tr>\n",
       "  <th>Omnibus:</th>       <td>94.060</td> <th>  Durbin-Watson:     </th> <td>   1.983</td>\n",
       "</tr>\n",
       "<tr>\n",
       "  <th>Prob(Omnibus):</th> <td> 0.000</td> <th>  Jarque-Bera (JB):  </th> <td> 102.663</td>\n",
       "</tr>\n",
       "<tr>\n",
       "  <th>Skew:</th>          <td> 0.459</td> <th>  Prob(JB):          </th> <td>5.09e-23</td>\n",
       "</tr>\n",
       "<tr>\n",
       "  <th>Kurtosis:</th>      <td> 3.086</td> <th>  Cond. No.          </th> <td>    26.3</td>\n",
       "</tr>\n",
       "</table><br/><br/>Notes:<br/>[1] Standard Errors assume that the covariance matrix of the errors is correctly specified."
      ],
      "text/plain": [
       "<class 'statsmodels.iolib.summary.Summary'>\n",
       "\"\"\"\n",
       "                            OLS Regression Results                            \n",
       "==============================================================================\n",
       "Dep. Variable:        signal_strength   R-squared:                       0.173\n",
       "Model:                            OLS   Adj. R-squared:                  0.162\n",
       "Method:                 Least Squares   F-statistic:                     16.60\n",
       "Date:                Mon, 20 Feb 2023   Prob (F-statistic):           2.29e-92\n",
       "Time:                        20:47:22   Log-Likelihood:                -3740.2\n",
       "No. Observations:                2902   AIC:                             7554.\n",
       "Df Residuals:                    2865   BIC:                             7775.\n",
       "Df Model:                          36                                         \n",
       "Covariance Type:            nonrobust                                         \n",
       "==============================================================================\n",
       "                 coef    std err          t      P>|t|      [0.025      0.975]\n",
       "------------------------------------------------------------------------------\n",
       "Intercept      4.6089      0.031    151.020      0.000       4.549       4.669\n",
       "STREME1        0.1166      0.025      4.689      0.000       0.068       0.165\n",
       "STREME2        0.0123      0.024      0.503      0.615      -0.036       0.060\n",
       "STREME3        0.1062      0.017      6.106      0.000       0.072       0.140\n",
       "STREME4        0.0112      0.008      1.481      0.139      -0.004       0.026\n",
       "STREME5        0.0369      0.019      1.917      0.055      -0.001       0.075\n",
       "STREME6       -0.0294      0.020     -1.450      0.147      -0.069       0.010\n",
       "STREME7        0.0469      0.032      1.461      0.144      -0.016       0.110\n",
       "STREME9        0.0223      0.014      1.561      0.119      -0.006       0.050\n",
       "STREME10       0.0965      0.030      3.257      0.001       0.038       0.155\n",
       "STREME11       0.1385      0.044      3.182      0.001       0.053       0.224\n",
       "STREME12       0.0028      0.006      0.436      0.663      -0.010       0.015\n",
       "STREME13       0.0027      0.031      0.088      0.930      -0.058       0.063\n",
       "STREME14       0.1252      0.030      4.186      0.000       0.067       0.184\n",
       "STREME15      -0.0101      0.013     -0.773      0.439      -0.036       0.016\n",
       "STREME16       0.0295      0.040      0.739      0.460      -0.049       0.108\n",
       "STREME17      -0.0193      0.011     -1.697      0.090      -0.042       0.003\n",
       "STREME18       0.0462      0.032      1.451      0.147      -0.016       0.109\n",
       "STREME19       0.0379      0.036      1.044      0.296      -0.033       0.109\n",
       "STREME20       0.1171      0.031      3.821      0.000       0.057       0.177\n",
       "STREME21       0.0975      0.031      3.182      0.001       0.037       0.157\n",
       "STREME22       0.0540      0.031      1.754      0.080      -0.006       0.114\n",
       "STREME23      -0.0006      0.049     -0.012      0.990      -0.096       0.095\n",
       "STREME25       0.0986      0.039      2.528      0.012       0.022       0.175\n",
       "STREME29       0.0768      0.045      1.689      0.091      -0.012       0.166\n",
       "STREME31       0.0528      0.040      1.324      0.186      -0.025       0.131\n",
       "STREME35       0.0730      0.035      2.111      0.035       0.005       0.141\n",
       "STREME36       0.0262      0.022      1.197      0.231      -0.017       0.069\n",
       "STREME37       0.0499      0.020      2.510      0.012       0.011       0.089\n",
       "STREME38       0.0519      0.014      3.677      0.000       0.024       0.080\n",
       "STREME41       0.0759      0.041      1.844      0.065      -0.005       0.157\n",
       "STREME42       0.0718      0.034      2.093      0.036       0.005       0.139\n",
       "STREME43       0.0322      0.016      2.021      0.043       0.001       0.063\n",
       "STREME44       0.0062      0.010      0.646      0.518      -0.013       0.025\n",
       "STREME45       0.0574      0.027      2.117      0.034       0.004       0.111\n",
       "STREME46       0.0487      0.031      1.585      0.113      -0.012       0.109\n",
       "STREME47       0.0896      0.044      2.014      0.044       0.002       0.177\n",
       "==============================================================================\n",
       "Omnibus:                       94.060   Durbin-Watson:                   1.983\n",
       "Prob(Omnibus):                  0.000   Jarque-Bera (JB):              102.663\n",
       "Skew:                           0.459   Prob(JB):                     5.09e-23\n",
       "Kurtosis:                       3.086   Cond. No.                         26.3\n",
       "==============================================================================\n",
       "\n",
       "Notes:\n",
       "[1] Standard Errors assume that the covariance matrix of the errors is correctly specified.\n",
       "\"\"\""
      ]
     },
     "execution_count": 33,
     "metadata": {},
     "output_type": "execute_result"
    }
   ],
   "source": [
    "linear_model = sm.OLS(y, X)\n",
    "results = linear_model.fit()\n",
    "results.summary()"
   ]
  },
  {
   "attachments": {},
   "cell_type": "markdown",
   "metadata": {},
   "source": [
    "Looking at the results from our model, we see there is a p value. This p value is for the Wald test. The Wald test will tell us if certain features are 0 (null hypothesis). And if they are zero, that means that they aren't impactful towards the model. But if we reject the null hypothesis then our feature is significant. \n",
    "\n",
    "Statsmodels will do this for every single variable individually, and does not do it for the collective set of variables. Though that is an option that is possible with the Wald test if my interpretation is correct.\n",
    "\n",
    "Additionally, it is visible that our adjusted $R^2$ is 0.162. This means that 16.2% of our variance is able to be observed from this model."
   ]
  },
  {
   "cell_type": "code",
   "execution_count": 34,
   "metadata": {},
   "outputs": [
    {
     "data": {
      "text/plain": [
       "Text(0.5, 1.0, 'This is a funny graph about peak height')"
      ]
     },
     "execution_count": 34,
     "metadata": {},
     "output_type": "execute_result"
    },
    {
     "data": {
      "image/png": "[encoded data removed]",
      "text/plain": [
       "<Figure size 480x360 with 1 Axes>"
      ]
     },
     "metadata": {},
     "output_type": "display_data"
    }
   ],
   "source": [
    "# X_test['Intercept'] = np.ones(X_test.shape[0])\n",
    "# print(X_test.shape)\n",
    "pred_y = results.predict(X)\n",
    "sns.scatterplot(x=response['signal_value'], y=pred_y)\n",
    "plt.plot([0, 15], [0, 22], color=\"tab:orange\")\n",
    "plt.xlabel(\"True Value\", fontsize=16)\n",
    "plt.ylabel(\"Predicted Value\", fontsize=16)\n",
    "plt.title(\"This is a funny graph about peak height\")"
   ]
  },
  {
   "attachments": {},
   "cell_type": "markdown",
   "metadata": {},
   "source": [
    "We are predicting on our same training data here. This just tells us how well the model is able to understand our data. We can see here from the line that the true value and predicted value don't really match most of the time.\n",
    "\n",
    "Our model is not understanding how our data is varying well. This matches what we were seeing from the $R^2$ value from before."
   ]
  },
  {
   "attachments": {},
   "cell_type": "markdown",
   "metadata": {},
   "source": [
    "### Linear Regression assumptions"
   ]
  },
  {
   "cell_type": "code",
   "execution_count": 39,
   "metadata": {},
   "outputs": [
    {
     "data": {
      "text/plain": [
       "Text(0.5, 1.0, 'Residual Histogram')"
      ]
     },
     "execution_count": 39,
     "metadata": {},
     "output_type": "execute_result"
    },
    {
     "data": {
      "image/png": "[encoded data removed]",
      "text/plain": [
       "<Figure size 480x360 with 1 Axes>"
      ]
     },
     "metadata": {},
     "output_type": "display_data"
    }
   ],
   "source": [
    "sns.histplot(x=results.resid)\n",
    "plt.xlabel(\"Residual\", fontsize=16)\n",
    "plt.ylabel(\"Count (Samples)\", fontsize=16)\n",
    "plt.title(\"Residual Histogram\")"
   ]
  },
  {
   "attachments": {},
   "cell_type": "markdown",
   "metadata": {},
   "source": [
    "By using a histogram of the residuals, we can see that they are roughly normally distributed. I think that the normality assumption is likely to be true with distribution."
   ]
  },
  {
   "attachments": {},
   "cell_type": "markdown",
   "metadata": {},
   "source": [
    "Checking if our data is normally distributed"
   ]
  },
  {
   "cell_type": "code",
   "execution_count": 36,
   "metadata": {},
   "outputs": [
    {
     "data": {
      "text/plain": [
       "ShapiroResult(statistic=0.9860913753509521, pvalue=2.8490914033897934e-16)"
      ]
     },
     "execution_count": 36,
     "metadata": {},
     "output_type": "execute_result"
    }
   ],
   "source": [
    "stats.shapiro(results.resid)"
   ]
  },
  {
   "attachments": {},
   "cell_type": "markdown",
   "metadata": {},
   "source": [
    "The Shapiro test from scipy shows us exactly what the graph above showed us. That we have normally distributed residuals."
   ]
  },
  {
   "attachments": {},
   "cell_type": "markdown",
   "metadata": {},
   "source": [
    "Checking the mean residuals"
   ]
  },
  {
   "cell_type": "code",
   "execution_count": 37,
   "metadata": {},
   "outputs": [
    {
     "data": {
      "text/plain": [
       "5.1270726694750164e-15"
      ]
     },
     "execution_count": 37,
     "metadata": {},
     "output_type": "execute_result"
    }
   ],
   "source": [
    "np.mean(results.resid)"
   ]
  },
  {
   "attachments": {},
   "cell_type": "markdown",
   "metadata": {},
   "source": [
    "This is really close to zero. Again, this strengthens our assumption of normally distributed residuals."
   ]
  },
  {
   "attachments": {},
   "cell_type": "markdown",
   "metadata": {},
   "source": [
    "Checking the residuals vs fitted values (should be roughly consistent going left to right)"
   ]
  },
  {
   "cell_type": "code",
   "execution_count": 82,
   "metadata": {},
   "outputs": [
    {
     "data": {
      "text/plain": [
       "Text(0.5, 1.0, 'Residuals vs fitted values')"
      ]
     },
     "execution_count": 82,
     "metadata": {},
     "output_type": "execute_result"
    },
    {
     "data": {
      "image/png": "[encoded data removed]",
      "text/plain": [
       "<Figure size 480x360 with 1 Axes>"
      ]
     },
     "metadata": {},
     "output_type": "display_data"
    }
   ],
   "source": [
    "sns.scatterplot(x=results.fittedvalues, y=results.resid)\n",
    "plt.xlabel(\"Fitted Value\", fontsize=16)\n",
    "plt.ylabel(\"Residual\", fontsize=16)\n",
    "plt.title(\"Residuals vs fitted values\")"
   ]
  },
  {
   "attachments": {},
   "cell_type": "markdown",
   "metadata": {},
   "source": [
    "Yeeea. That right there is the bad one. There we go. We don't have constant residuals, now it makes sense why our model is like it is.\n",
    "\n",
    "Though we understood that by looking at the prediction from earlier. This just centers it around that 0 line and makes it horizontal. We understood that our data was not exactly linear from previous analysis."
   ]
  },
  {
   "attachments": {},
   "cell_type": "markdown",
   "metadata": {},
   "source": [
    "### Results Analysis"
   ]
  },
  {
   "attachments": {},
   "cell_type": "markdown",
   "metadata": {},
   "source": [
    "Bringing ourselves back to the question I wanted to answer, I will simply list the appropriate motifs that seem to have some relationship with the signal response.\n",
    "\n",
    "We will use an $\\alpha$ of 0.05 and use the results of the Wald test for this."
   ]
  },
  {
   "cell_type": "code",
   "execution_count": 66,
   "metadata": {},
   "outputs": [
    {
     "data": {
      "text/plain": [
       "['STREME-1',\n",
       " 'STREME-3',\n",
       " 'STREME-10',\n",
       " 'STREME-11',\n",
       " 'STREME-14',\n",
       " 'STREME-20',\n",
       " 'STREME-21',\n",
       " 'STREME-25',\n",
       " 'STREME-35',\n",
       " 'STREME-37',\n",
       " 'STREME-38',\n",
       " 'STREME-42',\n",
       " 'STREME-43',\n",
       " 'STREME-45',\n",
       " 'STREME-47']"
      ]
     },
     "execution_count": 66,
     "metadata": {},
     "output_type": "execute_result"
    }
   ],
   "source": [
    "model_with_weights = list(dict(results.params).items())\n",
    "significant_features = []\n",
    "for index, p_val in enumerate(results.pvalues):\n",
    "    if p_val <= 0.05:\n",
    "        significant_features.append(model_with_weights[index][0])\n",
    "\n",
    "significant_features = significant_features[1:]\n",
    "renamed_significant_features = [f'STREME-{split_line.split(\"STREME\")[1]}' for split_line in significant_features]\n",
    "renamed_significant_features"
   ]
  },
  {
   "attachments": {},
   "cell_type": "markdown",
   "metadata": {},
   "source": [
    "Ignoring the intercept, we can see here which predictors were significant. Bringing this back to the idea that these are sequence, we can actually look at what the sequence is for some of the matches here."
   ]
  },
  {
   "cell_type": "code",
   "execution_count": 67,
   "metadata": {},
   "outputs": [],
   "source": [
    "treatment_fimo = pd.read_csv('./TFBS Regression Modeling/trmt_fimo/fimo.tsv', header=0, sep='\\t', comment='#')"
   ]
  },
  {
   "cell_type": "code",
   "execution_count": 81,
   "metadata": {},
   "outputs": [
    {
     "name": "stdout",
     "output_type": "stream",
     "text": [
      "STREME-1 : CTTATCGCC\n",
      "STREME-3 : GTGAGTCAC\n",
      "STREME-10 : CTGATAA\n",
      "STREME-11 : TGACGAA\n",
      "STREME-14 : AGATAAA\n",
      "STREME-20 : GCGATAAA\n",
      "STREME-21 : CTTATCA\n",
      "STREME-25 : AGCAAGA\n",
      "STREME-35 : GCTCCGCA\n",
      "STREME-37 : CGCACAC\n",
      "STREME-38 : ACATATGT\n",
      "STREME-42 : ACTACACTA\n",
      "STREME-43 : ACAAAAACAAGA\n",
      "STREME-45 : AAATACATAGTGA\n",
      "STREME-47 : ACGTCTTCACA\n"
     ]
    }
   ],
   "source": [
    "motif_groups =  treatment_fimo.groupby('motif_alt_id')\n",
    "for significant_motif in renamed_significant_features:\n",
    "    print(significant_motif,\":\",motif_groups.get_group(significant_motif)['matched_sequence'].iloc[0])\n"
   ]
  },
  {
   "attachments": {},
   "cell_type": "markdown",
   "metadata": {},
   "source": [
    "And we can actually see here which sequence motifs were significant according to our model. That was my goal with my research question. I hope this was fun to read. I know it's a little messy and not that put together (multiple notebooks, not very clear direction) for an outside reader but I didn't really have the time to really make it nice. I think it did okay though..."
   ]
  }
 ],
 "metadata": {
  "kernelspec": {
   "display_name": "venv",
   "language": "python",
   "name": "python3"
  },
  "language_info": {
   "codemirror_mode": {
    "name": "ipython",
    "version": 3
   },
   "file_extension": ".py",
   "mimetype": "text/x-python",
   "name": "python",
   "nbconvert_exporter": "python",
   "pygments_lexer": "ipython3",
   "version": "3.10.0"
  },
  "orig_nbformat": 4,
  "vscode": {
   "interpreter": {
    "hash": "df8a5bf322a7575148098c20588abdffb29112e65c968077733d7a841679b698"
   }
  }
 },
 "nbformat": 4,
 "nbformat_minor": 2
}
