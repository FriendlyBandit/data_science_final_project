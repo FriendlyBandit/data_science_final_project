{
 "cells": [
  {
   "attachments": {},
   "cell_type": "markdown",
   "metadata": {},
   "source": [
    "There were two software solutions that were ran before this notebook was started. One, RJ ran STREME by MEMESUITE in order to find sequence that were enriched (found more in one set of sequences than the other) in our treatment set over a set of similarly sized control sequences (Control sequences discussed in logistic_regression.ipynb). \n",
    "\n",
    "Next, using that set of found enriched sequences, I ran FIMO from MEMESUITE in order to locate these sequences in each of the treatment sequences. At that point is where this notebook starts.\n",
    "\n",
    "I am not considering those two bits of feature engineering to be a part of this project and so am not giving a very concrete overview of those software solutions."
   ]
  },
  {
   "cell_type": "code",
   "execution_count": 2,
   "metadata": {},
   "outputs": [],
   "source": [
    "import pandas as pd\n",
    "import seaborn as sns\n",
    "import matplotlib.pyplot as plt "
   ]
  },
  {
   "cell_type": "code",
   "execution_count": 3,
   "metadata": {},
   "outputs": [],
   "source": [
    "treatment_fimo = pd.read_csv('./TFBS Regression Modeling/trmt_fimo/fimo.tsv', header=0, sep='\\t', comment='#')\n",
    "narrowpeak = pd.read_csv('./TFBS Regression Modeling/dmel_s2_bampe_q01_peaks.narrowPeak', header=None, sep='\\t', comment='#')"
   ]
  },
  {
   "attachments": {},
   "cell_type": "markdown",
   "metadata": {},
   "source": [
    "### Encoding based on Motif Appearances\n",
    "\n",
    "#### Exploring the data:\n",
    "\n",
    "How many entries and of what types?"
   ]
  },
  {
   "cell_type": "code",
   "execution_count": 4,
   "metadata": {},
   "outputs": [
    {
     "name": "stdout",
     "output_type": "stream",
     "text": [
      "<class 'pandas.core.frame.DataFrame'>\n",
      "RangeIndex: 62205 entries, 0 to 62204\n",
      "Data columns (total 10 columns):\n",
      " #   Column            Non-Null Count  Dtype  \n",
      "---  ------            --------------  -----  \n",
      " 0   motif_id          62205 non-null  object \n",
      " 1   motif_alt_id      62205 non-null  object \n",
      " 2   sequence_name     62205 non-null  object \n",
      " 3   start             62205 non-null  int64  \n",
      " 4   stop              62205 non-null  int64  \n",
      " 5   strand            62205 non-null  object \n",
      " 6   score             62205 non-null  float64\n",
      " 7   p-value           62205 non-null  float64\n",
      " 8   q-value           62205 non-null  float64\n",
      " 9   matched_sequence  62205 non-null  object \n",
      "dtypes: float64(3), int64(2), object(5)\n",
      "memory usage: 4.7+ MB\n"
     ]
    }
   ],
   "source": [
    "treatment_fimo.info()"
   ]
  },
  {
   "attachments": {},
   "cell_type": "markdown",
   "metadata": {},
   "source": [
    "Note that I have no missing entries. Next, note that the features I care about are just the sequence_name and the motif_alt_id."
   ]
  },
  {
   "cell_type": "code",
   "execution_count": 5,
   "metadata": {},
   "outputs": [
    {
     "data": {
      "text/html": [
       "<div>\n",
       "<style scoped>\n",
       "    .dataframe tbody tr th:only-of-type {\n",
       "        vertical-align: middle;\n",
       "    }\n",
       "\n",
       "    .dataframe tbody tr th {\n",
       "        vertical-align: top;\n",
       "    }\n",
       "\n",
       "    .dataframe thead th {\n",
       "        text-align: right;\n",
       "    }\n",
       "</style>\n",
       "<table border=\"1\" class=\"dataframe\">\n",
       "  <thead>\n",
       "    <tr style=\"text-align: right;\">\n",
       "      <th></th>\n",
       "      <th>motif_alt_id</th>\n",
       "      <th>sequence_name</th>\n",
       "    </tr>\n",
       "  </thead>\n",
       "  <tbody>\n",
       "    <tr>\n",
       "      <th>0</th>\n",
       "      <td>STREME-12</td>\n",
       "      <td>X:5794883-5797178</td>\n",
       "    </tr>\n",
       "    <tr>\n",
       "      <th>1</th>\n",
       "      <td>STREME-12</td>\n",
       "      <td>3L:17576814-17578210</td>\n",
       "    </tr>\n",
       "    <tr>\n",
       "      <th>2</th>\n",
       "      <td>STREME-12</td>\n",
       "      <td>X:5794883-5797178</td>\n",
       "    </tr>\n",
       "    <tr>\n",
       "      <th>3</th>\n",
       "      <td>STREME-12</td>\n",
       "      <td>3L:17576814-17578210</td>\n",
       "    </tr>\n",
       "    <tr>\n",
       "      <th>4</th>\n",
       "      <td>STREME-12</td>\n",
       "      <td>2R:15744192-15745896</td>\n",
       "    </tr>\n",
       "    <tr>\n",
       "      <th>...</th>\n",
       "      <td>...</td>\n",
       "      <td>...</td>\n",
       "    </tr>\n",
       "    <tr>\n",
       "      <th>62200</th>\n",
       "      <td>STREME-17</td>\n",
       "      <td>2R:5599550-5600200</td>\n",
       "    </tr>\n",
       "    <tr>\n",
       "      <th>62201</th>\n",
       "      <td>STREME-17</td>\n",
       "      <td>2R:18651615-18653228</td>\n",
       "    </tr>\n",
       "    <tr>\n",
       "      <th>62202</th>\n",
       "      <td>STREME-17</td>\n",
       "      <td>3R:3394020-3394639</td>\n",
       "    </tr>\n",
       "    <tr>\n",
       "      <th>62203</th>\n",
       "      <td>STREME-17</td>\n",
       "      <td>2R:5168634-5169461</td>\n",
       "    </tr>\n",
       "    <tr>\n",
       "      <th>62204</th>\n",
       "      <td>STREME-17</td>\n",
       "      <td>2R:3610676-3611401</td>\n",
       "    </tr>\n",
       "  </tbody>\n",
       "</table>\n",
       "<p>62205 rows × 2 columns</p>\n",
       "</div>"
      ],
      "text/plain": [
       "      motif_alt_id         sequence_name\n",
       "0        STREME-12     X:5794883-5797178\n",
       "1        STREME-12  3L:17576814-17578210\n",
       "2        STREME-12     X:5794883-5797178\n",
       "3        STREME-12  3L:17576814-17578210\n",
       "4        STREME-12  2R:15744192-15745896\n",
       "...            ...                   ...\n",
       "62200    STREME-17    2R:5599550-5600200\n",
       "62201    STREME-17  2R:18651615-18653228\n",
       "62202    STREME-17    3R:3394020-3394639\n",
       "62203    STREME-17    2R:5168634-5169461\n",
       "62204    STREME-17    2R:3610676-3611401\n",
       "\n",
       "[62205 rows x 2 columns]"
      ]
     },
     "execution_count": 5,
     "metadata": {},
     "output_type": "execute_result"
    }
   ],
   "source": [
    "treatment_fimo[['motif_alt_id', 'sequence_name']]"
   ]
  },
  {
   "attachments": {},
   "cell_type": "markdown",
   "metadata": {},
   "source": [
    "These are the only two features I'm interested in from that tsv file."
   ]
  },
  {
   "attachments": {},
   "cell_type": "markdown",
   "metadata": {},
   "source": [
    "How many unique sequences?"
   ]
  },
  {
   "cell_type": "code",
   "execution_count": 6,
   "metadata": {},
   "outputs": [
    {
     "data": {
      "text/plain": [
       "2902"
      ]
     },
     "execution_count": 6,
     "metadata": {},
     "output_type": "execute_result"
    }
   ],
   "source": [
    "sequences = list(treatment_fimo['sequence_name'].unique())\n",
    "len(sequences)"
   ]
  },
  {
   "attachments": {},
   "cell_type": "markdown",
   "metadata": {},
   "source": [
    "Out of the 28,896 total, we have only 2863 sequences. \n",
    "\n",
    "How many motifs?"
   ]
  },
  {
   "cell_type": "code",
   "execution_count": 7,
   "metadata": {},
   "outputs": [
    {
     "data": {
      "text/plain": [
       "36"
      ]
     },
     "execution_count": 7,
     "metadata": {},
     "output_type": "execute_result"
    }
   ],
   "source": [
    "unique_motifs = list(treatment_fimo['motif_alt_id'].unique())\n",
    "unique_motifs.sort(key=lambda x: int(x.split('-')[-1]))\n",
    "# We will sort the unique motifs list just so that it looks pretty.\n",
    "len(unique_motifs)"
   ]
  },
  {
   "attachments": {},
   "cell_type": "markdown",
   "metadata": {},
   "source": [
    "Only 36! We must aggregate this data by both the sequence and then the motifs. Let us create a simple dictionary to aggregate our data:"
   ]
  },
  {
   "cell_type": "code",
   "execution_count": 8,
   "metadata": {},
   "outputs": [
    {
     "name": "stdout",
     "output_type": "stream",
     "text": [
      "X:5794883-5797178 has a dictionary of: {'STREME-1': 0, 'STREME-2': 0, 'STREME-3': 0, 'STREME-4': 0, 'STREME-5': 0, 'STREME-6': 0, 'STREME-7': 0, 'STREME-9': 0, 'STREME-10': 0, 'STREME-11': 0, 'STREME-12': 0, 'STREME-13': 0, 'STREME-14': 0, 'STREME-15': 0, 'STREME-16': 0, 'STREME-17': 0, 'STREME-18': 0, 'STREME-19': 0, 'STREME-20': 0, 'STREME-21': 0, 'STREME-22': 0, 'STREME-23': 0, 'STREME-25': 0, 'STREME-29': 0, 'STREME-31': 0, 'STREME-35': 0, 'STREME-36': 0, 'STREME-37': 0, 'STREME-38': 0, 'STREME-41': 0, 'STREME-42': 0, 'STREME-43': 0, 'STREME-44': 0, 'STREME-45': 0, 'STREME-46': 0, 'STREME-47': 0}\n"
     ]
    }
   ],
   "source": [
    "motif_aggregation = dict.fromkeys(sequences, None)\n",
    "\n",
    "for sequence in sequences:\n",
    "    motif_aggregation[sequence] = dict.fromkeys(unique_motifs, 0)\n",
    "\n",
    "first_key = list(motif_aggregation.keys())[0]\n",
    "print(f'{first_key} has a dictionary of: {motif_aggregation[first_key]}')"
   ]
  },
  {
   "attachments": {},
   "cell_type": "markdown",
   "metadata": {},
   "source": [
    "Let us fill this dictionary now."
   ]
  },
  {
   "cell_type": "code",
   "execution_count": 9,
   "metadata": {},
   "outputs": [
    {
     "name": "stdout",
     "output_type": "stream",
     "text": [
      "X:5794883-5797178 has a dictionary of: {'STREME-1': 0, 'STREME-2': 0, 'STREME-3': 0, 'STREME-4': 0, 'STREME-5': 0, 'STREME-6': 0, 'STREME-7': 0, 'STREME-9': 1, 'STREME-10': 1, 'STREME-11': 0, 'STREME-12': 30, 'STREME-13': 0, 'STREME-14': 1, 'STREME-15': 0, 'STREME-16': 0, 'STREME-17': 0, 'STREME-18': 0, 'STREME-19': 0, 'STREME-20': 0, 'STREME-21': 0, 'STREME-22': 1, 'STREME-23': 0, 'STREME-25': 0, 'STREME-29': 0, 'STREME-31': 2, 'STREME-35': 0, 'STREME-36': 0, 'STREME-37': 3, 'STREME-38': 0, 'STREME-41': 0, 'STREME-42': 0, 'STREME-43': 1, 'STREME-44': 30, 'STREME-45': 2, 'STREME-46': 0, 'STREME-47': 0}\n"
     ]
    }
   ],
   "source": [
    "for row_index, row in treatment_fimo.iterrows():\n",
    "    count_dictionary = motif_aggregation[row['sequence_name']]\n",
    "    count_dictionary[row['motif_alt_id']] += 1\n",
    "\n",
    "print(f'{first_key} has a dictionary of: {motif_aggregation[first_key]}')"
   ]
  },
  {
   "attachments": {},
   "cell_type": "markdown",
   "metadata": {},
   "source": [
    "Now let us create a pandas dictionary from these \"rows\" of counts we made. Remember! Since python 3.6 this is allowed because the insertion order is the same, and as such they key order for all of our dictionaries is the same."
   ]
  },
  {
   "cell_type": "code",
   "execution_count": 10,
   "metadata": {},
   "outputs": [
    {
     "name": "stdout",
     "output_type": "stream",
     "text": [
      "Final shape of dataframe: (2902, 37)\n"
     ]
    },
    {
     "data": {
      "text/html": [
       "<div>\n",
       "<style scoped>\n",
       "    .dataframe tbody tr th:only-of-type {\n",
       "        vertical-align: middle;\n",
       "    }\n",
       "\n",
       "    .dataframe tbody tr th {\n",
       "        vertical-align: top;\n",
       "    }\n",
       "\n",
       "    .dataframe thead th {\n",
       "        text-align: right;\n",
       "    }\n",
       "</style>\n",
       "<table border=\"1\" class=\"dataframe\">\n",
       "  <thead>\n",
       "    <tr style=\"text-align: right;\">\n",
       "      <th></th>\n",
       "      <th>sequence_name</th>\n",
       "      <th>STREME-1</th>\n",
       "      <th>STREME-2</th>\n",
       "      <th>STREME-3</th>\n",
       "      <th>STREME-4</th>\n",
       "      <th>STREME-5</th>\n",
       "      <th>STREME-6</th>\n",
       "      <th>STREME-7</th>\n",
       "      <th>STREME-9</th>\n",
       "      <th>STREME-10</th>\n",
       "      <th>...</th>\n",
       "      <th>STREME-36</th>\n",
       "      <th>STREME-37</th>\n",
       "      <th>STREME-38</th>\n",
       "      <th>STREME-41</th>\n",
       "      <th>STREME-42</th>\n",
       "      <th>STREME-43</th>\n",
       "      <th>STREME-44</th>\n",
       "      <th>STREME-45</th>\n",
       "      <th>STREME-46</th>\n",
       "      <th>STREME-47</th>\n",
       "    </tr>\n",
       "  </thead>\n",
       "  <tbody>\n",
       "    <tr>\n",
       "      <th>0</th>\n",
       "      <td>X:5794883-5797178</td>\n",
       "      <td>0</td>\n",
       "      <td>0</td>\n",
       "      <td>0</td>\n",
       "      <td>0</td>\n",
       "      <td>0</td>\n",
       "      <td>0</td>\n",
       "      <td>0</td>\n",
       "      <td>1</td>\n",
       "      <td>1</td>\n",
       "      <td>...</td>\n",
       "      <td>0</td>\n",
       "      <td>3</td>\n",
       "      <td>0</td>\n",
       "      <td>0</td>\n",
       "      <td>0</td>\n",
       "      <td>1</td>\n",
       "      <td>30</td>\n",
       "      <td>2</td>\n",
       "      <td>0</td>\n",
       "      <td>0</td>\n",
       "    </tr>\n",
       "    <tr>\n",
       "      <th>1</th>\n",
       "      <td>3L:17576814-17578210</td>\n",
       "      <td>0</td>\n",
       "      <td>0</td>\n",
       "      <td>0</td>\n",
       "      <td>16</td>\n",
       "      <td>1</td>\n",
       "      <td>2</td>\n",
       "      <td>0</td>\n",
       "      <td>2</td>\n",
       "      <td>1</td>\n",
       "      <td>...</td>\n",
       "      <td>0</td>\n",
       "      <td>1</td>\n",
       "      <td>0</td>\n",
       "      <td>0</td>\n",
       "      <td>1</td>\n",
       "      <td>1</td>\n",
       "      <td>6</td>\n",
       "      <td>1</td>\n",
       "      <td>2</td>\n",
       "      <td>0</td>\n",
       "    </tr>\n",
       "  </tbody>\n",
       "</table>\n",
       "<p>2 rows × 37 columns</p>\n",
       "</div>"
      ],
      "text/plain": [
       "          sequence_name  STREME-1  STREME-2  STREME-3  STREME-4  STREME-5  \\\n",
       "0     X:5794883-5797178         0         0         0         0         0   \n",
       "1  3L:17576814-17578210         0         0         0        16         1   \n",
       "\n",
       "   STREME-6  STREME-7  STREME-9  STREME-10  ...  STREME-36  STREME-37  \\\n",
       "0         0         0         1          1  ...          0          3   \n",
       "1         2         0         2          1  ...          0          1   \n",
       "\n",
       "   STREME-38  STREME-41  STREME-42  STREME-43  STREME-44  STREME-45  \\\n",
       "0          0          0          0          1         30          2   \n",
       "1          0          0          1          1          6          1   \n",
       "\n",
       "   STREME-46  STREME-47  \n",
       "0          0          0  \n",
       "1          2          0  \n",
       "\n",
       "[2 rows x 37 columns]"
      ]
     },
     "execution_count": 10,
     "metadata": {},
     "output_type": "execute_result"
    }
   ],
   "source": [
    "column_names = list(motif_aggregation[first_key].keys())\n",
    "\n",
    "all_rows = []\n",
    "for key, row_dict in motif_aggregation.items():\n",
    "    row_values = [key]\n",
    "    for motif_name, appearances in row_dict.items():\n",
    "        row_values.append(appearances)\n",
    "    \n",
    "    all_rows.append(row_values)\n",
    "\n",
    "count_dataframe = pd.DataFrame(data=all_rows, columns=['sequence_name',*column_names])\n",
    "print(f'Final shape of dataframe: {count_dataframe.shape}')\n",
    "count_dataframe.head(2)"
   ]
  },
  {
   "attachments": {},
   "cell_type": "markdown",
   "metadata": {},
   "source": [
    "How many of each STREME motif are there? This might be interesting to go back to later, though I don't think I will have the time to."
   ]
  },
  {
   "cell_type": "code",
   "execution_count": 11,
   "metadata": {},
   "outputs": [
    {
     "data": {
      "text/plain": [
       "sequence_name    X:5794883-57971783L:17576814-175782102R:157441...\n",
       "STREME-1                                                      1390\n",
       "STREME-2                                                      1076\n",
       "STREME-3                                                      1310\n",
       "STREME-4                                                      7480\n",
       "STREME-5                                                      1340\n",
       "STREME-6                                                      1585\n",
       "STREME-7                                                       756\n",
       "STREME-9                                                      2090\n",
       "STREME-10                                                     1046\n",
       "STREME-11                                                      428\n",
       "STREME-12                                                     9872\n",
       "STREME-13                                                      716\n",
       "STREME-14                                                      967\n",
       "STREME-15                                                     3894\n",
       "STREME-16                                                      497\n",
       "STREME-17                                                     4769\n",
       "STREME-18                                                      645\n",
       "STREME-19                                                      606\n",
       "STREME-20                                                      863\n",
       "STREME-21                                                     1112\n",
       "STREME-22                                                      747\n",
       "STREME-23                                                      279\n",
       "STREME-25                                                      489\n",
       "STREME-29                                                      312\n",
       "STREME-31                                                      483\n",
       "STREME-35                                                      641\n",
       "STREME-36                                                     2005\n",
       "STREME-37                                                     1835\n",
       "STREME-38                                                     1666\n",
       "STREME-41                                                      422\n",
       "STREME-42                                                      690\n",
       "STREME-43                                                     3219\n",
       "STREME-44                                                     4895\n",
       "STREME-45                                                     1024\n",
       "STREME-46                                                      652\n",
       "STREME-47                                                      404\n",
       "dtype: object"
      ]
     },
     "execution_count": 11,
     "metadata": {},
     "output_type": "execute_result"
    }
   ],
   "source": [
    "count_dataframe.sum(axis=0)"
   ]
  },
  {
   "cell_type": "code",
   "execution_count": 12,
   "metadata": {},
   "outputs": [],
   "source": [
    "summed_data = count_dataframe.sum()\n",
    "summed_data['sequence_name'] = \"count\"\n",
    "summed_df = pd.DataFrame(summed_data)\n",
    "summed_df = summed_df.T\n",
    "summed_df.columns\n",
    "summed_df = summed_df.drop('sequence_name', axis=1)\n",
    "summed_df\n",
    "new_df = pd.DataFrame()\n",
    "new_df['Motifs'] = summed_df.columns\n",
    "new_df['Count'] = [value[0] for value in summed_df.T.values]\n"
   ]
  },
  {
   "cell_type": "code",
   "execution_count": 19,
   "metadata": {},
   "outputs": [
    {
     "data": {
      "text/plain": [
       "Text(0.5, 1.0, 'Different motif counts')"
      ]
     },
     "execution_count": 19,
     "metadata": {},
     "output_type": "execute_result"
    },
    {
     "data": {
      "image/png": "[encoded data removed]",
      "text/plain": [
       "<Figure size 640x480 with 1 Axes>"
      ]
     },
     "metadata": {},
     "output_type": "display_data"
    }
   ],
   "source": [
    "sns.barplot(data=new_df, y=new_df.Motifs, x=new_df.Count)\n",
    "plt.title(\"Different motif counts\")"
   ]
  },
  {
   "attachments": {},
   "cell_type": "markdown",
   "metadata": {},
   "source": [
    "Looking at this chart, it seems like there are some different motifs that have a lot more appearances. That will be looked at later. Do note that some of these (like STREME 12) might actually be a product of repeated sequence. I'm not sure if I'll look into this for the scope of this project, but it's something that I'm noting down.\n",
    "\n",
    "Though, maybe some of these (even the smaller one) are related to signal output. That is the purpose of these notebooks."
   ]
  },
  {
   "attachments": {},
   "cell_type": "markdown",
   "metadata": {},
   "source": [
    "Engineering the narrowpeak file in order to add it to the above dataframe\n",
    "\n",
    "NOTE: I will look at the distribution of this variable in the other notebook: linear_regression"
   ]
  },
  {
   "cell_type": "code",
   "execution_count": 14,
   "metadata": {},
   "outputs": [],
   "source": [
    "sequence_name_generated = [f'{chr.strip()}:{start}-{end}' for chr, start, end in zip(narrowpeak.iloc[:,0], narrowpeak.iloc[:,1], narrowpeak.iloc[:,2])]"
   ]
  },
  {
   "cell_type": "code",
   "execution_count": 15,
   "metadata": {},
   "outputs": [
    {
     "data": {
      "text/html": [
       "<div>\n",
       "<style scoped>\n",
       "    .dataframe tbody tr th:only-of-type {\n",
       "        vertical-align: middle;\n",
       "    }\n",
       "\n",
       "    .dataframe tbody tr th {\n",
       "        vertical-align: top;\n",
       "    }\n",
       "\n",
       "    .dataframe thead th {\n",
       "        text-align: right;\n",
       "    }\n",
       "</style>\n",
       "<table border=\"1\" class=\"dataframe\">\n",
       "  <thead>\n",
       "    <tr style=\"text-align: right;\">\n",
       "      <th></th>\n",
       "      <th>sequence_name</th>\n",
       "      <th>signal_response</th>\n",
       "    </tr>\n",
       "  </thead>\n",
       "  <tbody>\n",
       "    <tr>\n",
       "      <th>0</th>\n",
       "      <td>211000022278091:232-1074</td>\n",
       "      <td>36</td>\n",
       "    </tr>\n",
       "    <tr>\n",
       "      <th>1</th>\n",
       "      <td>211000022278785:515-1338</td>\n",
       "      <td>350</td>\n",
       "    </tr>\n",
       "    <tr>\n",
       "      <th>2</th>\n",
       "      <td>211000022278925:77-768</td>\n",
       "      <td>123</td>\n",
       "    </tr>\n",
       "  </tbody>\n",
       "</table>\n",
       "</div>"
      ],
      "text/plain": [
       "              sequence_name  signal_response\n",
       "0  211000022278091:232-1074               36\n",
       "1  211000022278785:515-1338              350\n",
       "2    211000022278925:77-768              123"
      ]
     },
     "execution_count": 15,
     "metadata": {},
     "output_type": "execute_result"
    }
   ],
   "source": [
    "narrowpeak_only_height_name = pd.DataFrame()\n",
    "narrowpeak_only_height_name['sequence_name'] = sequence_name_generated\n",
    "# Columns follow this format: https://genome.ucsc.edu/FAQ/FAQformat.html#format12\n",
    "# We will use the 4th column (0 indexed), or score.\n",
    "narrowpeak_only_height_name['signal_response'] = narrowpeak.iloc[:,4]\n",
    "narrowpeak_only_height_name.head(3)"
   ]
  },
  {
   "cell_type": "code",
   "execution_count": 16,
   "metadata": {},
   "outputs": [
    {
     "data": {
      "text/html": [
       "<div>\n",
       "<style scoped>\n",
       "    .dataframe tbody tr th:only-of-type {\n",
       "        vertical-align: middle;\n",
       "    }\n",
       "\n",
       "    .dataframe tbody tr th {\n",
       "        vertical-align: top;\n",
       "    }\n",
       "\n",
       "    .dataframe thead th {\n",
       "        text-align: right;\n",
       "    }\n",
       "</style>\n",
       "<table border=\"1\" class=\"dataframe\">\n",
       "  <thead>\n",
       "    <tr style=\"text-align: right;\">\n",
       "      <th></th>\n",
       "      <th>signal_response</th>\n",
       "    </tr>\n",
       "    <tr>\n",
       "      <th>sequence_name</th>\n",
       "      <th></th>\n",
       "    </tr>\n",
       "  </thead>\n",
       "  <tbody>\n",
       "    <tr>\n",
       "      <th>2R:8068591-8069363</th>\n",
       "      <td>210</td>\n",
       "    </tr>\n",
       "    <tr>\n",
       "      <th>2R:8144907-8146842</th>\n",
       "      <td>481</td>\n",
       "    </tr>\n",
       "    <tr>\n",
       "      <th>2R:8150427-8151097</th>\n",
       "      <td>48</td>\n",
       "    </tr>\n",
       "    <tr>\n",
       "      <th>2R:8237360-8238169</th>\n",
       "      <td>166</td>\n",
       "    </tr>\n",
       "    <tr>\n",
       "      <th>2R:8242236-8243053</th>\n",
       "      <td>189</td>\n",
       "    </tr>\n",
       "  </tbody>\n",
       "</table>\n",
       "</div>"
      ],
      "text/plain": [
       "                    signal_response\n",
       "sequence_name                      \n",
       "2R:8068591-8069363              210\n",
       "2R:8144907-8146842              481\n",
       "2R:8150427-8151097               48\n",
       "2R:8237360-8238169              166\n",
       "2R:8242236-8243053              189"
      ]
     },
     "execution_count": 16,
     "metadata": {},
     "output_type": "execute_result"
    }
   ],
   "source": [
    "temp_groups = narrowpeak_only_height_name.groupby('sequence_name').max()\n",
    "temp_groups.iloc[1000:1005, :]"
   ]
  },
  {
   "attachments": {},
   "cell_type": "markdown",
   "metadata": {},
   "source": [
    "Joining these dataframes based on sequence_name"
   ]
  },
  {
   "cell_type": "code",
   "execution_count": 17,
   "metadata": {},
   "outputs": [
    {
     "data": {
      "text/html": [
       "<div>\n",
       "<style scoped>\n",
       "    .dataframe tbody tr th:only-of-type {\n",
       "        vertical-align: middle;\n",
       "    }\n",
       "\n",
       "    .dataframe tbody tr th {\n",
       "        vertical-align: top;\n",
       "    }\n",
       "\n",
       "    .dataframe thead th {\n",
       "        text-align: right;\n",
       "    }\n",
       "</style>\n",
       "<table border=\"1\" class=\"dataframe\">\n",
       "  <thead>\n",
       "    <tr style=\"text-align: right;\">\n",
       "      <th></th>\n",
       "      <th>sequence_name</th>\n",
       "      <th>STREME-1</th>\n",
       "      <th>STREME-2</th>\n",
       "      <th>STREME-3</th>\n",
       "      <th>STREME-4</th>\n",
       "      <th>STREME-5</th>\n",
       "      <th>STREME-6</th>\n",
       "      <th>STREME-7</th>\n",
       "      <th>STREME-9</th>\n",
       "      <th>STREME-10</th>\n",
       "      <th>...</th>\n",
       "      <th>STREME-37</th>\n",
       "      <th>STREME-38</th>\n",
       "      <th>STREME-41</th>\n",
       "      <th>STREME-42</th>\n",
       "      <th>STREME-43</th>\n",
       "      <th>STREME-44</th>\n",
       "      <th>STREME-45</th>\n",
       "      <th>STREME-46</th>\n",
       "      <th>STREME-47</th>\n",
       "      <th>signal_response</th>\n",
       "    </tr>\n",
       "  </thead>\n",
       "  <tbody>\n",
       "    <tr>\n",
       "      <th>0</th>\n",
       "      <td>X:5794883-5797178</td>\n",
       "      <td>0</td>\n",
       "      <td>0</td>\n",
       "      <td>0</td>\n",
       "      <td>0</td>\n",
       "      <td>0</td>\n",
       "      <td>0</td>\n",
       "      <td>0</td>\n",
       "      <td>1</td>\n",
       "      <td>1</td>\n",
       "      <td>...</td>\n",
       "      <td>3</td>\n",
       "      <td>0</td>\n",
       "      <td>0</td>\n",
       "      <td>0</td>\n",
       "      <td>1</td>\n",
       "      <td>30</td>\n",
       "      <td>2</td>\n",
       "      <td>0</td>\n",
       "      <td>0</td>\n",
       "      <td>48</td>\n",
       "    </tr>\n",
       "    <tr>\n",
       "      <th>1</th>\n",
       "      <td>3L:17576814-17578210</td>\n",
       "      <td>0</td>\n",
       "      <td>0</td>\n",
       "      <td>0</td>\n",
       "      <td>16</td>\n",
       "      <td>1</td>\n",
       "      <td>2</td>\n",
       "      <td>0</td>\n",
       "      <td>2</td>\n",
       "      <td>1</td>\n",
       "      <td>...</td>\n",
       "      <td>1</td>\n",
       "      <td>0</td>\n",
       "      <td>0</td>\n",
       "      <td>1</td>\n",
       "      <td>1</td>\n",
       "      <td>6</td>\n",
       "      <td>1</td>\n",
       "      <td>2</td>\n",
       "      <td>0</td>\n",
       "      <td>654</td>\n",
       "    </tr>\n",
       "    <tr>\n",
       "      <th>2</th>\n",
       "      <td>2R:15744192-15745896</td>\n",
       "      <td>1</td>\n",
       "      <td>0</td>\n",
       "      <td>2</td>\n",
       "      <td>0</td>\n",
       "      <td>0</td>\n",
       "      <td>0</td>\n",
       "      <td>0</td>\n",
       "      <td>0</td>\n",
       "      <td>1</td>\n",
       "      <td>...</td>\n",
       "      <td>1</td>\n",
       "      <td>2</td>\n",
       "      <td>0</td>\n",
       "      <td>0</td>\n",
       "      <td>1</td>\n",
       "      <td>10</td>\n",
       "      <td>0</td>\n",
       "      <td>0</td>\n",
       "      <td>0</td>\n",
       "      <td>443</td>\n",
       "    </tr>\n",
       "  </tbody>\n",
       "</table>\n",
       "<p>3 rows × 38 columns</p>\n",
       "</div>"
      ],
      "text/plain": [
       "          sequence_name  STREME-1  STREME-2  STREME-3  STREME-4  STREME-5  \\\n",
       "0     X:5794883-5797178         0         0         0         0         0   \n",
       "1  3L:17576814-17578210         0         0         0        16         1   \n",
       "2  2R:15744192-15745896         1         0         2         0         0   \n",
       "\n",
       "   STREME-6  STREME-7  STREME-9  STREME-10  ...  STREME-37  STREME-38  \\\n",
       "0         0         0         1          1  ...          3          0   \n",
       "1         2         0         2          1  ...          1          0   \n",
       "2         0         0         0          1  ...          1          2   \n",
       "\n",
       "   STREME-41  STREME-42  STREME-43  STREME-44  STREME-45  STREME-46  \\\n",
       "0          0          0          1         30          2          0   \n",
       "1          0          1          1          6          1          2   \n",
       "2          0          0          1         10          0          0   \n",
       "\n",
       "   STREME-47  signal_response  \n",
       "0          0               48  \n",
       "1          0              654  \n",
       "2          0              443  \n",
       "\n",
       "[3 rows x 38 columns]"
      ]
     },
     "execution_count": 17,
     "metadata": {},
     "output_type": "execute_result"
    }
   ],
   "source": [
    "joined_dataframe = count_dataframe.join(narrowpeak_only_height_name.set_index('sequence_name'), on='sequence_name')\n",
    "joined_dataframe.head(3)"
   ]
  },
  {
   "cell_type": "code",
   "execution_count": 18,
   "metadata": {},
   "outputs": [
    {
     "data": {
      "text/html": [
       "<div>\n",
       "<style scoped>\n",
       "    .dataframe tbody tr th:only-of-type {\n",
       "        vertical-align: middle;\n",
       "    }\n",
       "\n",
       "    .dataframe tbody tr th {\n",
       "        vertical-align: top;\n",
       "    }\n",
       "\n",
       "    .dataframe thead th {\n",
       "        text-align: right;\n",
       "    }\n",
       "</style>\n",
       "<table border=\"1\" class=\"dataframe\">\n",
       "  <thead>\n",
       "    <tr style=\"text-align: right;\">\n",
       "      <th></th>\n",
       "      <th>sequence_name</th>\n",
       "      <th>STREME-1</th>\n",
       "      <th>STREME-2</th>\n",
       "      <th>STREME-3</th>\n",
       "      <th>STREME-4</th>\n",
       "      <th>STREME-5</th>\n",
       "      <th>STREME-6</th>\n",
       "      <th>STREME-7</th>\n",
       "      <th>STREME-9</th>\n",
       "      <th>STREME-10</th>\n",
       "      <th>...</th>\n",
       "      <th>STREME-37</th>\n",
       "      <th>STREME-38</th>\n",
       "      <th>STREME-41</th>\n",
       "      <th>STREME-42</th>\n",
       "      <th>STREME-43</th>\n",
       "      <th>STREME-44</th>\n",
       "      <th>STREME-45</th>\n",
       "      <th>STREME-46</th>\n",
       "      <th>STREME-47</th>\n",
       "      <th>signal_value</th>\n",
       "    </tr>\n",
       "  </thead>\n",
       "  <tbody>\n",
       "    <tr>\n",
       "      <th>0</th>\n",
       "      <td>X:5794883-5797178</td>\n",
       "      <td>0</td>\n",
       "      <td>0</td>\n",
       "      <td>0</td>\n",
       "      <td>0</td>\n",
       "      <td>0</td>\n",
       "      <td>0</td>\n",
       "      <td>0</td>\n",
       "      <td>1</td>\n",
       "      <td>1</td>\n",
       "      <td>...</td>\n",
       "      <td>3</td>\n",
       "      <td>0</td>\n",
       "      <td>0</td>\n",
       "      <td>0</td>\n",
       "      <td>1</td>\n",
       "      <td>30</td>\n",
       "      <td>2</td>\n",
       "      <td>0</td>\n",
       "      <td>0</td>\n",
       "      <td>48</td>\n",
       "    </tr>\n",
       "    <tr>\n",
       "      <th>1</th>\n",
       "      <td>3L:17576814-17578210</td>\n",
       "      <td>0</td>\n",
       "      <td>0</td>\n",
       "      <td>0</td>\n",
       "      <td>16</td>\n",
       "      <td>1</td>\n",
       "      <td>2</td>\n",
       "      <td>0</td>\n",
       "      <td>2</td>\n",
       "      <td>1</td>\n",
       "      <td>...</td>\n",
       "      <td>1</td>\n",
       "      <td>0</td>\n",
       "      <td>0</td>\n",
       "      <td>1</td>\n",
       "      <td>1</td>\n",
       "      <td>6</td>\n",
       "      <td>1</td>\n",
       "      <td>2</td>\n",
       "      <td>0</td>\n",
       "      <td>654</td>\n",
       "    </tr>\n",
       "    <tr>\n",
       "      <th>2</th>\n",
       "      <td>2R:15744192-15745896</td>\n",
       "      <td>1</td>\n",
       "      <td>0</td>\n",
       "      <td>2</td>\n",
       "      <td>0</td>\n",
       "      <td>0</td>\n",
       "      <td>0</td>\n",
       "      <td>0</td>\n",
       "      <td>0</td>\n",
       "      <td>1</td>\n",
       "      <td>...</td>\n",
       "      <td>1</td>\n",
       "      <td>2</td>\n",
       "      <td>0</td>\n",
       "      <td>0</td>\n",
       "      <td>1</td>\n",
       "      <td>10</td>\n",
       "      <td>0</td>\n",
       "      <td>0</td>\n",
       "      <td>0</td>\n",
       "      <td>443</td>\n",
       "    </tr>\n",
       "  </tbody>\n",
       "</table>\n",
       "<p>3 rows × 38 columns</p>\n",
       "</div>"
      ],
      "text/plain": [
       "          sequence_name  STREME-1  STREME-2  STREME-3  STREME-4  STREME-5  \\\n",
       "0     X:5794883-5797178         0         0         0         0         0   \n",
       "1  3L:17576814-17578210         0         0         0        16         1   \n",
       "2  2R:15744192-15745896         1         0         2         0         0   \n",
       "\n",
       "   STREME-6  STREME-7  STREME-9  STREME-10  ...  STREME-37  STREME-38  \\\n",
       "0         0         0         1          1  ...          3          0   \n",
       "1         2         0         2          1  ...          1          0   \n",
       "2         0         0         0          1  ...          1          2   \n",
       "\n",
       "   STREME-41  STREME-42  STREME-43  STREME-44  STREME-45  STREME-46  \\\n",
       "0          0          0          1         30          2          0   \n",
       "1          0          1          1          6          1          2   \n",
       "2          0          0          1         10          0          0   \n",
       "\n",
       "   STREME-47  signal_value  \n",
       "0          0            48  \n",
       "1          0           654  \n",
       "2          0           443  \n",
       "\n",
       "[3 rows x 38 columns]"
      ]
     },
     "execution_count": 18,
     "metadata": {},
     "output_type": "execute_result"
    }
   ],
   "source": [
    "from functions import get_linear_regression_matrix\n",
    "\n",
    "joined_df_function = get_linear_regression_matrix()\n",
    "joined_df_function.head(3)"
   ]
  },
  {
   "attachments": {},
   "cell_type": "markdown",
   "metadata": {},
   "source": [
    "Just double checking my function is working and giving me the same output."
   ]
  }
 ],
 "metadata": {
  "kernelspec": {
   "display_name": "venv",
   "language": "python",
   "name": "python3"
  },
  "language_info": {
   "codemirror_mode": {
    "name": "ipython",
    "version": 3
   },
   "file_extension": ".py",
   "mimetype": "text/x-python",
   "name": "python",
   "nbconvert_exporter": "python",
   "pygments_lexer": "ipython3",
   "version": "3.10.0"
  },
  "orig_nbformat": 4,
  "vscode": {
   "interpreter": {
    "hash": "df8a5bf322a7575148098c20588abdffb29112e65c968077733d7a841679b698"
   }
  }
 },
 "nbformat": 4,
 "nbformat_minor": 2
}
